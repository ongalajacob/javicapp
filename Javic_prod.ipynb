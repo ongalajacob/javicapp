{
 "cells": [
  {
   "cell_type": "code",
   "execution_count": 1,
   "metadata": {},
   "outputs": [],
   "source": [
    "import pandas as pd\r\n",
    "import requests\r\n",
    "import io\r\n",
    "import numpy as np\r\n",
    "\r\n",
    "from scipy import stats\r\n",
    "from sklearn.model_selection import train_test_split, cross_val_score\r\n",
    "from sklearn.preprocessing import StandardScaler\r\n",
    "from sklearn.metrics import mean_squared_error, mean_absolute_error, r2_score\r\n",
    "from sklearn.linear_model import ElasticNet\r\n",
    "from sklearn.tree import DecisionTreeRegressor\r\n",
    "from sklearn.ensemble import BaggingRegressor, AdaBoostRegressor, RandomForestRegressor\r\n",
    "from sklearn.model_selection import RandomizedSearchCV\r\n",
    "import pickle\r\n",
    "import warnings\r\n",
    "\r\n",
    "warnings.filterwarnings(\"ignore\")\r\n",
    "\r\n",
    "# Downloading the csv file from your GitHub account\r\n",
    "\r\n",
    "\r\n",
    "student = 'https://raw.githubusercontent.com/ongalajacob/Javic_ML/main/2021_data/javicjun_schms_table_student.csv'\r\n",
    "class_session = 'https://raw.githubusercontent.com/ongalajacob/Javic_ML/main/2021_data/javicjun_schms_table_class_session.csv'\r\n",
    "classregister = 'https://raw.githubusercontent.com/ongalajacob/Javic_ML/main/2021_data/javicjun_schms_table_classregister.csv'\r\n",
    "invoice = 'https://raw.githubusercontent.com/ongalajacob/Javic_ML/main/2021_data/javicjun_schms_table_invoice.csv'\r\n",
    "employees = 'https://raw.githubusercontent.com/ongalajacob/Javic_ML/main/2021_data/javicjun_schms_table_employees.csv'\r\n",
    "fees = 'https://raw.githubusercontent.com/ongalajacob/Javic_ML/main/2021_data/javicjun_schms_table_fees.csv'\r\n",
    "exams = 'https://raw.githubusercontent.com/ongalajacob/Javic_ML/main/2021_data/javicjun_schms_table_exams.csv'\r\n",
    "\r\n",
    "stud_df = pd.read_csv(student)\r\n",
    "session_df = pd.read_csv(class_session)\r\n",
    "classregister_df = pd.read_csv(classregister)\r\n",
    "invoice_df = pd.read_csv(invoice)\r\n",
    "employees_df = pd.read_csv(employees)\r\n",
    "fee_df = pd.read_csv(fees)\r\n",
    "exams_df = pd.read_csv(exams)\r\n",
    "\r\n"
   ]
  },
  {
   "cell_type": "code",
   "execution_count": 29,
   "metadata": {},
   "outputs": [],
   "source": [
    "Register = pd.merge(left=classregister_df, right=session_df, how='left', left_on='Session', right_on='id')\r\n",
    "Register.drop([\"id_y\",\"Session\"], axis=1, inplace=True)\r\n",
    "Register.rename(columns = {'id_x':'id', }, inplace = True)\r\n",
    "\r\n",
    "Register = pd.merge(left=Register, right=stud_df, how='left', left_on='student', right_on='ID')\r\n",
    "Register.drop(['ID','Mother', 'Father', 'Guadian',\r\n",
    "       'Class_Admitted', 'DOA', 'address',\r\n",
    "        'DateExit',\"student\",'Startdate','Enddate','ClassTeacher'], axis=1, inplace=True)\r\n",
    "Register.rename(columns = {'sex_x':'sex_teacher','sex_y':'sex_stud' ,'name':'name_stud' ,'Class_grd':'grade'  }, inplace = True)\r\n",
    "\r\n",
    "Register=pd.merge(left=Register, right=invoice_df, how='left', left_on='id', right_on='ClassRegisterID')\r\n",
    "Register.drop([\"id_y\"], axis=1, inplace=True)\r\n",
    "Register.rename(columns = {'id_x':'id', }, inplace = True)\r\n",
    "Register_df = Register.rename(columns=str.lower)\r\n",
    "Register_df['tot_invoice']=Register_df['uniform']+Register_df['uniform_no']+(Register_df['transport']*Register_df['transport_months'])+ \\\r\n",
    "     (Register_df['lunch']*Register_df['lunch_months'])+Register_df['otherlevyindv']+Register_df['tutionfee']+Register_df['examfee']+ \\\r\n",
    "         Register_df['booklevy'] +Register_df['activityfee']+Register_df['otherlevies']\r\n",
    "Register_df= Register_df[['id', 'year', 'term', 'grade', \r\n",
    "       'name_stud', 'adm', 'dob', 'sex', 'phone1', 'phone2', 'phone3', 'enrolstatus', 'bal_bf', 'tot_invoice']] \r\n",
    "Register_df[\"grade\"].replace({\"Baby1\":'Baby','Class5':'Grade5',}, inplace=True)\r\n",
    "Register_df['grade'] = pd.Categorical(Register_df['grade'], ['Baby', 'PP1', 'PP2','Grade1',  'Grade2', 'Grade3', 'Grade4', 'Grade5'])     \r\n",
    "\r\n",
    "\r\n",
    "fee_df[['Admission', 'Tuition',\r\n",
    "       'Transport', 'Uniform', 'Lunch', 'Exams', 'BookLvy', 'Activity',\r\n",
    "       'OtheLvy']] = fee_df[['Admission', 'Tuition',\r\n",
    "       'Transport', 'Uniform', 'Lunch', 'Exams', 'BookLvy', 'Activity',\r\n",
    "       'OtheLvy']].fillna(0)\r\n",
    "fee_df[\"total_paid\"] =fee_df[\"Admission\"] +fee_df[\"Tuition\"] +fee_df[\"Transport\"] +fee_df[\"Uniform\"] \\\r\n",
    "       +fee_df[\"Lunch\"] +fee_df[\"Exams\"] +fee_df[\"BookLvy\"] +fee_df[\"Activity\"] +fee_df[\"OtheLvy\"] \r\n",
    "fee_df['id']=fee_df['id'].astype(object)\r\n",
    "fee_df['ReceiptNo']=fee_df['ReceiptNo'].astype(object)\r\n",
    "#fee_df['DOP1']=pd.to_datetime(fee_df['DOP'] ,format = '%Y-%m-%d') \r\n",
    "fee_df['DOP']=pd.to_datetime(fee_df['DOP']).dt.strftime('%Y-%m-%d')\r\n",
    "fees_df=pd.merge(left=fee_df, right=Register_df, how='left', left_on='ClassRegisterID', right_on='id')\r\n",
    "fees_df = fees_df.rename(columns=str.lower)\r\n",
    "fees_df.drop([\"id_y\",'classregisterid'], axis=1, inplace=True)\r\n",
    "fees_df.rename(columns = {'id_x':'id', }, inplace = True)\r\n",
    "fees_df=fees_df[['id', 'receiptno', 'dop', 'year', 'term', 'grade','adm','name_stud', 'enrolstatus', 'phone1', 'phone2', 'phone3', 'admission', 'tuition', 'transport',\r\n",
    "      'uniform', 'lunch', 'exams', 'booklvy', 'activity', 'othelvy',  'total_paid']]\r\n",
    "\r\n",
    "\r\n",
    "fee_df1=fee_df.groupby([\"ClassRegisterID\"])[\"total_paid\"].sum().reset_index(name='Total_collection')\r\n",
    "fees_bal_df=pd.merge(left=fee_df1, right=Register_df, how='left', left_on='ClassRegisterID', right_on='id')\r\n",
    "fees_bal_df[\"bal_cf\"] =fees_bal_df[\"tot_invoice\"] - fees_bal_df[\"Total_collection\"] \r\n",
    "fees_bal_df=fees_bal_df[['id','year', 'term','grade',  'adm','name_stud','enrolstatus',  'bal_bf', 'tot_invoice', 'Total_collection','bal_cf' , 'phone1', 'phone2', 'phone3']]\r\n",
    "fees_bal_df = fees_bal_df.rename(columns=str.lower)\r\n",
    "\r\n",
    "\r\n",
    "exam_df=pd.merge(left=exams_df, right=Register_df, how='left', left_on='ClassRegisterID', right_on='id')\r\n",
    "exam_df.drop([\"id_y\",'ClassRegisterID'], axis=1, inplace=True)\r\n",
    "exam_df.rename(columns = {'id_x':'id', }, inplace = True)\r\n",
    "exam_df=exam_df[['id', 'ExamType', 'year', 'term', 'grade','adm',   'name_stud', 'dob', 'sex','enrolstatus',  'Maths', 'EngLan', 'EngComp',\r\n",
    "       'KisLug', 'KisIns', 'Social', 'Creative', 'CRE', 'Science', 'HmScie',\r\n",
    "       'Agric', 'Music', 'PE']]\r\n",
    "exam_df= exam_df.rename(columns=str.lower)\r\n",
    "subjects=['maths', 'englan', 'engcomp', 'kislug', 'kisins', 'social', 'creative',\r\n",
    "       'cre', 'science', 'hmscie', 'agric', 'music', 'pe']\r\n",
    "exam_df['Tot_marks'] = exam_df[subjects].sum(numeric_only=True, axis=1)\r\n",
    "exam_df=exam_df.dropna()\r\n",
    "exam_df['year'] = exam_df.year.astype(int) \r\n",
    "exam_df['adm'] = exam_df.adm.astype(int)  "
   ]
  },
  {
   "cell_type": "code",
   "execution_count": 31,
   "metadata": {},
   "outputs": [
    {
     "data": {
      "text/plain": "Index(['id', 'year', 'term', 'grade', 'adm', 'name_stud', 'enrolstatus',\n       'bal_bf', 'tot_invoice', 'total_collection', 'bal_cf', 'phone1',\n       'phone2', 'phone3'],\n      dtype='object')"
     },
     "execution_count": 31,
     "metadata": {},
     "output_type": "execute_result"
    }
   ],
   "source": [
    "fees_bal_df.columns"
   ]
  },
  {
   "cell_type": "code",
   "execution_count": 20,
   "metadata": {},
   "outputs": [
    {
     "data": {
      "text/html": "<div>\n<style scoped>\n    .dataframe tbody tr th:only-of-type {\n        vertical-align: middle;\n    }\n\n    .dataframe tbody tr th {\n        vertical-align: top;\n    }\n\n    .dataframe thead th {\n        text-align: right;\n    }\n</style>\n<table border=\"1\" class=\"dataframe\">\n  <thead>\n    <tr style=\"text-align: right;\">\n      <th></th>\n      <th>receiptno</th>\n      <th>dop</th>\n      <th>grade</th>\n      <th>adm</th>\n      <th>name_stud</th>\n      <th>admission</th>\n      <th>tuition</th>\n      <th>transport</th>\n      <th>uniform</th>\n      <th>lunch</th>\n      <th>exams</th>\n      <th>booklvy</th>\n      <th>activity</th>\n      <th>othelvy</th>\n      <th>total_paid</th>\n    </tr>\n  </thead>\n  <tbody>\n    <tr>\n      <th>0</th>\n      <td>6598</td>\n      <td>2020-10-19</td>\n      <td>Grade4</td>\n      <td>54</td>\n      <td>Reinhard Levi Onyango</td>\n      <td>0.0</td>\n      <td>1900.0</td>\n      <td>900.0</td>\n      <td>0.0</td>\n      <td>0.0</td>\n      <td>0.0</td>\n      <td>200.0</td>\n      <td>0.0</td>\n      <td>0.0</td>\n      <td>3000.0</td>\n    </tr>\n    <tr>\n      <th>1</th>\n      <td>6597</td>\n      <td>2020-10-14</td>\n      <td>Grade4</td>\n      <td>252</td>\n      <td>Meths Rino Nyagol</td>\n      <td>0.0</td>\n      <td>2000.0</td>\n      <td>0.0</td>\n      <td>0.0</td>\n      <td>600.0</td>\n      <td>100.0</td>\n      <td>200.0</td>\n      <td>100.0</td>\n      <td>0.0</td>\n      <td>3000.0</td>\n    </tr>\n    <tr>\n      <th>3</th>\n      <td>6596</td>\n      <td>2020-10-14</td>\n      <td>Grade4</td>\n      <td>226</td>\n      <td>Katheryn Fejenia Wanyama</td>\n      <td>0.0</td>\n      <td>3000.0</td>\n      <td>3300.0</td>\n      <td>700.0</td>\n      <td>1800.0</td>\n      <td>100.0</td>\n      <td>200.0</td>\n      <td>100.0</td>\n      <td>0.0</td>\n      <td>9200.0</td>\n    </tr>\n    <tr>\n      <th>4</th>\n      <td>6600</td>\n      <td>2020-10-19</td>\n      <td>Grade4</td>\n      <td>113</td>\n      <td>Shantel Whitney Otieno</td>\n      <td>0.0</td>\n      <td>1650.0</td>\n      <td>0.0</td>\n      <td>0.0</td>\n      <td>0.0</td>\n      <td>0.0</td>\n      <td>0.0</td>\n      <td>0.0</td>\n      <td>0.0</td>\n      <td>1650.0</td>\n    </tr>\n    <tr>\n      <th>5</th>\n      <td>6602</td>\n      <td>2020-10-19</td>\n      <td>Grade4</td>\n      <td>282</td>\n      <td>Kerry Dalmas Otieno</td>\n      <td>0.0</td>\n      <td>1700.0</td>\n      <td>0.0</td>\n      <td>0.0</td>\n      <td>0.0</td>\n      <td>0.0</td>\n      <td>0.0</td>\n      <td>0.0</td>\n      <td>0.0</td>\n      <td>1700.0</td>\n    </tr>\n    <tr>\n      <th>...</th>\n      <td>...</td>\n      <td>...</td>\n      <td>...</td>\n      <td>...</td>\n      <td>...</td>\n      <td>...</td>\n      <td>...</td>\n      <td>...</td>\n      <td>...</td>\n      <td>...</td>\n      <td>...</td>\n      <td>...</td>\n      <td>...</td>\n      <td>...</td>\n      <td>...</td>\n    </tr>\n    <tr>\n      <th>1164</th>\n      <td>7820</td>\n      <td>2021-05-26</td>\n      <td>Grade1</td>\n      <td>211</td>\n      <td>Dalmus Ojwang Odhiambo</td>\n      <td>0.0</td>\n      <td>1000.0</td>\n      <td>0.0</td>\n      <td>0.0</td>\n      <td>0.0</td>\n      <td>0.0</td>\n      <td>0.0</td>\n      <td>0.0</td>\n      <td>0.0</td>\n      <td>1000.0</td>\n    </tr>\n    <tr>\n      <th>1165</th>\n      <td>7821</td>\n      <td>2021-05-27</td>\n      <td>Grade3</td>\n      <td>287</td>\n      <td>Gabriel Ebeneza</td>\n      <td>0.0</td>\n      <td>3700.0</td>\n      <td>3300.0</td>\n      <td>0.0</td>\n      <td>1800.0</td>\n      <td>200.0</td>\n      <td>200.0</td>\n      <td>100.0</td>\n      <td>0.0</td>\n      <td>9300.0</td>\n    </tr>\n    <tr>\n      <th>1166</th>\n      <td>7822</td>\n      <td>2021-05-28</td>\n      <td>Grade2</td>\n      <td>255</td>\n      <td>Byron John Onyango</td>\n      <td>0.0</td>\n      <td>400.0</td>\n      <td>0.0</td>\n      <td>0.0</td>\n      <td>600.0</td>\n      <td>200.0</td>\n      <td>200.0</td>\n      <td>100.0</td>\n      <td>0.0</td>\n      <td>1500.0</td>\n    </tr>\n    <tr>\n      <th>1167</th>\n      <td>7823</td>\n      <td>2021-05-28</td>\n      <td>PP1</td>\n      <td>285</td>\n      <td>Sharlet Kimberly Odede</td>\n      <td>0.0</td>\n      <td>800.0</td>\n      <td>0.0</td>\n      <td>0.0</td>\n      <td>0.0</td>\n      <td>0.0</td>\n      <td>0.0</td>\n      <td>0.0</td>\n      <td>0.0</td>\n      <td>800.0</td>\n    </tr>\n    <tr>\n      <th>1168</th>\n      <td>7824</td>\n      <td>2021-05-28</td>\n      <td>PP2</td>\n      <td>126</td>\n      <td>Ronney Odhiambo Okore</td>\n      <td>0.0</td>\n      <td>1000.0</td>\n      <td>0.0</td>\n      <td>0.0</td>\n      <td>600.0</td>\n      <td>200.0</td>\n      <td>200.0</td>\n      <td>100.0</td>\n      <td>0.0</td>\n      <td>2100.0</td>\n    </tr>\n  </tbody>\n</table>\n<p>1164 rows × 15 columns</p>\n</div>",
      "text/plain": "     receiptno         dop   grade  adm                 name_stud  admission  \\\n0         6598  2020-10-19  Grade4   54     Reinhard Levi Onyango        0.0   \n1         6597  2020-10-14  Grade4  252         Meths Rino Nyagol        0.0   \n3         6596  2020-10-14  Grade4  226  Katheryn Fejenia Wanyama        0.0   \n4         6600  2020-10-19  Grade4  113    Shantel Whitney Otieno        0.0   \n5         6602  2020-10-19  Grade4  282       Kerry Dalmas Otieno        0.0   \n...        ...         ...     ...  ...                       ...        ...   \n1164      7820  2021-05-26  Grade1  211    Dalmus Ojwang Odhiambo        0.0   \n1165      7821  2021-05-27  Grade3  287           Gabriel Ebeneza        0.0   \n1166      7822  2021-05-28  Grade2  255        Byron John Onyango        0.0   \n1167      7823  2021-05-28     PP1  285    Sharlet Kimberly Odede        0.0   \n1168      7824  2021-05-28     PP2  126     Ronney Odhiambo Okore        0.0   \n\n      tuition  transport  uniform   lunch  exams  booklvy  activity  othelvy  \\\n0      1900.0      900.0      0.0     0.0    0.0    200.0       0.0      0.0   \n1      2000.0        0.0      0.0   600.0  100.0    200.0     100.0      0.0   \n3      3000.0     3300.0    700.0  1800.0  100.0    200.0     100.0      0.0   \n4      1650.0        0.0      0.0     0.0    0.0      0.0       0.0      0.0   \n5      1700.0        0.0      0.0     0.0    0.0      0.0       0.0      0.0   \n...       ...        ...      ...     ...    ...      ...       ...      ...   \n1164   1000.0        0.0      0.0     0.0    0.0      0.0       0.0      0.0   \n1165   3700.0     3300.0      0.0  1800.0  200.0    200.0     100.0      0.0   \n1166    400.0        0.0      0.0   600.0  200.0    200.0     100.0      0.0   \n1167    800.0        0.0      0.0     0.0    0.0      0.0       0.0      0.0   \n1168   1000.0        0.0      0.0   600.0  200.0    200.0     100.0      0.0   \n\n      total_paid  \n0         3000.0  \n1         3000.0  \n3         9200.0  \n4         1650.0  \n5         1700.0  \n...          ...  \n1164      1000.0  \n1165      9300.0  \n1166      1500.0  \n1167       800.0  \n1168      2100.0  \n\n[1164 rows x 15 columns]"
     },
     "execution_count": 20,
     "metadata": {},
     "output_type": "execute_result"
    }
   ],
   "source": [
    "fees_df[fees_df.enrolstatus=='In_Session'][['receiptno', 'dop', 'grade', 'adm', 'name_stud',\r\n",
    "            'admission', 'tuition', 'transport', 'uniform', 'lunch',\r\n",
    "            'exams', 'booklvy', 'activity', 'othelvy', 'total_paid']]  "
   ]
  },
  {
   "cell_type": "code",
   "execution_count": null,
   "metadata": {},
   "outputs": [],
   "source": [
    "(['ADM', 'name',  'Mother', 'Father', 'Guadian', 'DOB', 'sex',\r\n",
    "        'PHONE1', 'PHONE2', 'PHONE3', 'DOA']"
   ]
  }
 ],
 "metadata": {
  "kernelspec": {
   "display_name": "Python 3.9.2 64-bit",
   "name": "python392jvsc74a57bd022dd9a7bee8e238efa5e8db43f1503fdfb7fa74c59d139fde990eca32ca837d0"
  },
  "language_info": {
   "codemirror_mode": {
    "name": "ipython",
    "version": 3
   },
   "file_extension": ".py",
   "mimetype": "text/x-python",
   "name": "python",
   "nbconvert_exporter": "python",
   "pygments_lexer": "ipython3",
   "version": "3.9.2"
  }
 },
 "nbformat": 4,
 "nbformat_minor": 4
}